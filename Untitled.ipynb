{
 "cells": [
  {
   "cell_type": "code",
   "execution_count": 26,
   "id": "03fe8e11",
   "metadata": {},
   "outputs": [],
   "source": [
    "import pandas as pd\n",
    "import numpy as np\n",
    "import seaborn as sns\n",
    "import matplotlib.pyplot as plt\n",
    "from sklearn.model_selection import train_test_split\n",
    "from sklearn.linear_model import LinearRegression\n",
    "from sklearn.metrics import r2_score, mean_squared_error"
   ]
  },
  {
   "cell_type": "code",
   "execution_count": 2,
   "id": "76c16a74",
   "metadata": {},
   "outputs": [],
   "source": [
    "listings = pd.read_csv(\"D:/Learning/NanoDegree/archive/listings.csv\") "
   ]
  },
  {
   "cell_type": "markdown",
   "id": "8d53811a",
   "metadata": {},
   "source": [
    "My 1st Business Problem is to help AirBnb predict Price of a property based on certain parameters"
   ]
  },
  {
   "cell_type": "code",
   "execution_count": 3,
   "id": "924c9cea",
   "metadata": {},
   "outputs": [
    {
     "data": {
      "text/plain": [
       "(3585, 96)"
      ]
     },
     "execution_count": 3,
     "metadata": {},
     "output_type": "execute_result"
    }
   ],
   "source": [
    "#Calculation of shape of the given dataframe\n",
    "listings.shape"
   ]
  },
  {
   "cell_type": "code",
   "execution_count": 4,
   "id": "9b4d03dd",
   "metadata": {},
   "outputs": [],
   "source": [
    "# I have found the most potential columns which I think will good fit for predicting Price\n",
    "listings_delta = listings[[\"price\",\"id\",\"host_since\",\"host_location\",\"host_response_rate\",\"host_acceptance_rate\",\"host_is_superhost\",\"host_listings_count\",\"host_total_listings_count\",\"neighbourhood_cleansed\",\"city\",\"state\",\"latitude\",\"longitude\",\"property_type\",\"room_type\",\"accommodates\",\"bathrooms\",\"bedrooms\",\"beds\",\"bed_type\",\"amenities\",\"amesnities_count\",\"square_feet\",\"weekly_price\",\"monthly_price\",\"security_deposit\",\"cleaning_fee\",\"guests_included\",\"maximum_nights\",\"review_scores_rating\",\"review_scores_accuracy\",\"review_scores_cleanliness\",\"review_scores_checkin\",\"review_scores_communication\",\"review_scores_location\",\"review_scores_value\",\"cancellation_policy\",\"reviews_per_month\"]]"
   ]
  },
  {
   "cell_type": "code",
   "execution_count": 5,
   "id": "589c70cc",
   "metadata": {},
   "outputs": [
    {
     "name": "stdout",
     "output_type": "stream",
     "text": [
      "['price', 'id', 'host_since', 'host_location', 'host_response_rate', 'host_acceptance_rate', 'host_is_superhost', 'host_listings_count', 'host_total_listings_count', 'neighbourhood_cleansed', 'city', 'state', 'latitude', 'longitude', 'property_type', 'room_type', 'accommodates', 'bathrooms', 'bedrooms', 'beds', 'bed_type', 'amenities', 'amesnities_count', 'guests_included', 'maximum_nights', 'review_scores_rating', 'review_scores_accuracy', 'review_scores_cleanliness', 'review_scores_checkin', 'review_scores_communication', 'review_scores_location', 'review_scores_value', 'cancellation_policy', 'reviews_per_month']\n"
     ]
    }
   ],
   "source": [
    "#I am listing here all the null counts for each column to understand the proportion\n",
    "list_sub = listings_delta.isnull().sum()/listings_delta.shape[0]\n",
    "cols_to_keep = list_sub[list_sub<0.25].index.tolist()\n",
    "print(cols_to_keep)"
   ]
  },
  {
   "cell_type": "code",
   "execution_count": 6,
   "id": "72866ffe",
   "metadata": {},
   "outputs": [],
   "source": [
    "listing_after_dropped = listings_delta[cols_to_keep]"
   ]
  },
  {
   "cell_type": "code",
   "execution_count": 7,
   "id": "59d7ce35",
   "metadata": {},
   "outputs": [
    {
     "name": "stdout",
     "output_type": "stream",
     "text": [
      "price                          0.000000\n",
      "id                             0.000000\n",
      "host_since                     0.000000\n",
      "host_location                  0.000000\n",
      "host_response_rate             0.000000\n",
      "host_acceptance_rate           0.000000\n",
      "host_is_superhost              0.000000\n",
      "host_listings_count            0.000000\n",
      "host_total_listings_count      0.000000\n",
      "neighbourhood_cleansed         0.000000\n",
      "city                           0.000558\n",
      "state                          0.000000\n",
      "latitude                       0.000000\n",
      "longitude                      0.000000\n",
      "property_type                  0.000837\n",
      "room_type                      0.000000\n",
      "accommodates                   0.000000\n",
      "bathrooms                      0.003905\n",
      "bedrooms                       0.002789\n",
      "beds                           0.002510\n",
      "bed_type                       0.000000\n",
      "amenities                      0.000000\n",
      "amesnities_count               0.000000\n",
      "guests_included                0.000000\n",
      "maximum_nights                 0.000000\n",
      "review_scores_rating           0.000000\n",
      "review_scores_accuracy         0.000000\n",
      "review_scores_cleanliness      0.000000\n",
      "review_scores_checkin          0.000000\n",
      "review_scores_communication    0.000000\n",
      "review_scores_location         0.000000\n",
      "review_scores_value            0.000000\n",
      "cancellation_policy            0.000000\n",
      "reviews_per_month              0.000000\n",
      "dtype: float64\n"
     ]
    }
   ],
   "source": [
    "#host_response_rate\n",
    "listing_after_dropped = listing_after_dropped.fillna({\"host_response_rate\" : 0})\n",
    "\n",
    "#host_acceptance_rate\n",
    "listing_after_dropped = listing_after_dropped.fillna({\"host_acceptance_rate\" : 0})\n",
    "\n",
    "#review_scores_rating\n",
    "listing_after_dropped = listing_after_dropped.fillna({\"review_scores_rating\" : 0})\n",
    "\n",
    "#review_scores_accuracy\n",
    "listing_after_dropped = listing_after_dropped.fillna({\"review_scores_accuracy\" : 0})\n",
    "\n",
    "#review_scores_cleanliness\n",
    "listing_after_dropped = listing_after_dropped.fillna({\"review_scores_cleanliness\" : 0})\n",
    "\n",
    "#review_scores_checkin\n",
    "listing_after_dropped = listing_after_dropped.fillna({\"review_scores_checkin\" : 0})\n",
    "\n",
    "#review_scores_communication\n",
    "listing_after_dropped = listing_after_dropped.fillna({\"review_scores_communication\" : 0})\n",
    "\n",
    "#review_scores_location\n",
    "listing_after_dropped = listing_after_dropped.fillna({\"review_scores_location\" : 0})\n",
    "\n",
    "#review_scores_value\n",
    "listing_after_dropped = listing_after_dropped.fillna({\"review_scores_value\" : 0})\n",
    "\n",
    "#reviews_per_month\n",
    "listing_after_dropped = listing_after_dropped.fillna({\"reviews_per_month\" : 0})\n",
    "\n",
    "#host_location\n",
    "listing_after_dropped = listing_after_dropped.fillna({\"host_location\" : 0})\n",
    "\n",
    "#property_type\n",
    "#listing_after_dropped['property_type']= listing_after_dropped['property_type'].fillna('na')\n",
    "\n",
    "#property_type\n",
    "#listing_after_dropped['property_type']= listing_after_dropped['property_type'].fillna('na')\n",
    "#property_type\n",
    "#listing_after_dropped= listing_after_dropped['property_type'].fillna(np.nan)\n",
    "\n",
    "\n",
    "listing_after_dropped_list = listing_after_dropped.isnull().sum()/listing_after_dropped.shape[0]\n",
    "print(listing_after_dropped_list)"
   ]
  },
  {
   "cell_type": "code",
   "execution_count": 8,
   "id": "437faae7",
   "metadata": {},
   "outputs": [],
   "source": [
    "listing_after_dropped = listing_after_dropped.fillna('na')"
   ]
  },
  {
   "cell_type": "code",
   "execution_count": 9,
   "id": "8732d007",
   "metadata": {},
   "outputs": [
    {
     "name": "stdout",
     "output_type": "stream",
     "text": [
      "price                          0\n",
      "id                             0\n",
      "host_since                     0\n",
      "host_location                  0\n",
      "host_response_rate             0\n",
      "host_acceptance_rate           0\n",
      "host_is_superhost              0\n",
      "host_listings_count            0\n",
      "host_total_listings_count      0\n",
      "neighbourhood_cleansed         0\n",
      "city                           0\n",
      "state                          0\n",
      "latitude                       0\n",
      "longitude                      0\n",
      "property_type                  0\n",
      "room_type                      0\n",
      "accommodates                   0\n",
      "bathrooms                      0\n",
      "bedrooms                       0\n",
      "beds                           0\n",
      "bed_type                       0\n",
      "amenities                      0\n",
      "amesnities_count               0\n",
      "guests_included                0\n",
      "maximum_nights                 0\n",
      "review_scores_rating           0\n",
      "review_scores_accuracy         0\n",
      "review_scores_cleanliness      0\n",
      "review_scores_checkin          0\n",
      "review_scores_communication    0\n",
      "review_scores_location         0\n",
      "review_scores_value            0\n",
      "cancellation_policy            0\n",
      "reviews_per_month              0\n",
      "dtype: int64\n"
     ]
    }
   ],
   "source": [
    "listing_after_dropped_list1 = listing_after_dropped.isnull().sum()\n",
    "print(listing_after_dropped_list1)"
   ]
  },
  {
   "cell_type": "code",
   "execution_count": 10,
   "id": "ffdbff67",
   "metadata": {},
   "outputs": [
    {
     "data": {
      "text/plain": [
       "(3585, 34)"
      ]
     },
     "execution_count": 10,
     "metadata": {},
     "output_type": "execute_result"
    }
   ],
   "source": [
    "listing_after_dropped.shape"
   ]
  },
  {
   "cell_type": "code",
   "execution_count": 11,
   "id": "c0ef281e",
   "metadata": {},
   "outputs": [],
   "source": [
    "df_dummies = pd.get_dummies(listing_after_dropped, columns =['bathrooms','bedrooms', 'beds','city','property_type','neighbourhood_cleansed','guests_included'])\n"
   ]
  },
  {
   "cell_type": "code",
   "execution_count": 12,
   "id": "19d38139",
   "metadata": {},
   "outputs": [
    {
     "data": {
      "text/plain": [
       "(3585, 150)"
      ]
     },
     "execution_count": 12,
     "metadata": {},
     "output_type": "execute_result"
    }
   ],
   "source": [
    "df_dummies.shape"
   ]
  },
  {
   "cell_type": "code",
   "execution_count": 13,
   "id": "49157896",
   "metadata": {},
   "outputs": [
    {
     "data": {
      "text/plain": [
       "count    3585.000000\n",
       "mean      173.925802\n",
       "std       148.331321\n",
       "min        10.000000\n",
       "25%        85.000000\n",
       "50%       150.000000\n",
       "75%       220.000000\n",
       "max      4000.000000\n",
       "Name: price, dtype: float64"
      ]
     },
     "execution_count": 13,
     "metadata": {},
     "output_type": "execute_result"
    }
   ],
   "source": [
    "listing_after_dropped.describe()['price']"
   ]
  },
  {
   "cell_type": "code",
   "execution_count": 14,
   "id": "faf0bcdb",
   "metadata": {},
   "outputs": [
    {
     "name": "stdout",
     "output_type": "stream",
     "text": [
      "Index(['price', 'id', 'host_since', 'host_location', 'host_response_rate',\n",
      "       'host_acceptance_rate', 'host_is_superhost', 'host_listings_count',\n",
      "       'host_total_listings_count', 'neighbourhood_cleansed', 'city', 'state',\n",
      "       'latitude', 'longitude', 'property_type', 'room_type', 'accommodates',\n",
      "       'bathrooms', 'bedrooms', 'beds', 'bed_type', 'amenities',\n",
      "       'amesnities_count', 'guests_included', 'maximum_nights',\n",
      "       'review_scores_rating', 'review_scores_accuracy',\n",
      "       'review_scores_cleanliness', 'review_scores_checkin',\n",
      "       'review_scores_communication', 'review_scores_location',\n",
      "       'review_scores_value', 'cancellation_policy', 'reviews_per_month'],\n",
      "      dtype='object')\n"
     ]
    }
   ],
   "source": [
    "print(listing_after_dropped.columns)"
   ]
  },
  {
   "cell_type": "code",
   "execution_count": 15,
   "id": "0ec8d27a",
   "metadata": {},
   "outputs": [
    {
     "name": "stderr",
     "output_type": "stream",
     "text": [
      "C:\\Users\\ashvi\\AppData\\Local\\Temp\\ipykernel_2912\\1102225394.py:1: FutureWarning: The default value of numeric_only in DataFrame.corr is deprecated. In a future version, it will default to False. Select only valid columns or specify the value of numeric_only to silence this warning.\n",
      "  corr_matrix = df_dummies.corr()\n"
     ]
    }
   ],
   "source": [
    "corr_matrix = df_dummies.corr()"
   ]
  },
  {
   "cell_type": "code",
   "execution_count": 16,
   "id": "76c204dd",
   "metadata": {},
   "outputs": [
    {
     "name": "stdout",
     "output_type": "stream",
     "text": [
      "                              price        id  host_listings_count  \\\n",
      "price                      1.000000 -0.059198             0.171930   \n",
      "id                        -0.059198  1.000000            -0.046503   \n",
      "host_listings_count        0.171930 -0.046503             1.000000   \n",
      "host_total_listings_count  0.171930 -0.046503             1.000000   \n",
      "latitude                   0.196270  0.089842             0.124228   \n",
      "...                             ...       ...                  ...   \n",
      "guests_included_8          0.049115 -0.011915            -0.012859   \n",
      "guests_included_9          0.034472 -0.007657            -0.005458   \n",
      "guests_included_10         0.031093 -0.014025            -0.005653   \n",
      "guests_included_12         0.040779  0.023652            -0.005165   \n",
      "guests_included_14         0.015326 -0.024576            -0.005555   \n",
      "\n",
      "                           host_total_listings_count  latitude  longitude  \\\n",
      "price                                       0.171930  0.196270   0.165621   \n",
      "id                                         -0.046503  0.089842  -0.010871   \n",
      "host_listings_count                         1.000000  0.124228   0.044281   \n",
      "host_total_listings_count                   1.000000  0.124228   0.044281   \n",
      "latitude                                    0.124228  1.000000   0.319327   \n",
      "...                                              ...       ...        ...   \n",
      "guests_included_8                          -0.012859 -0.007982  -0.004696   \n",
      "guests_included_9                          -0.005458 -0.017563  -0.007779   \n",
      "guests_included_10                         -0.005653  0.005259  -0.037355   \n",
      "guests_included_12                         -0.005165 -0.009930  -0.004882   \n",
      "guests_included_14                         -0.005555  0.006464  -0.004144   \n",
      "\n",
      "                           accommodates  amesnities_count  maximum_nights  \\\n",
      "price                          0.437756          0.070023       -0.005498   \n",
      "id                            -0.050574         -0.178253       -0.019681   \n",
      "host_listings_count            0.160164          0.095762       -0.004450   \n",
      "host_total_listings_count      0.160164          0.095762       -0.004450   \n",
      "latitude                       0.053818          0.020399        0.017591   \n",
      "...                                 ...               ...             ...   \n",
      "guests_included_8              0.194716          0.016859       -0.000689   \n",
      "guests_included_9              0.084132          0.006878       -0.000276   \n",
      "guests_included_10             0.084132          0.006878       -0.000276   \n",
      "guests_included_12             0.102915          0.006878       -0.000276   \n",
      "guests_included_14            -0.019170          0.006878       -0.000276   \n",
      "\n",
      "                           review_scores_rating  ...  guests_included_3  \\\n",
      "price                                 -0.073043  ...           0.046656   \n",
      "id                                    -0.320459  ...           0.007795   \n",
      "host_listings_count                   -0.185604  ...          -0.038031   \n",
      "host_total_listings_count             -0.185604  ...          -0.038031   \n",
      "latitude                              -0.065938  ...           0.002207   \n",
      "...                                         ...  ...                ...   \n",
      "guests_included_8                     -0.010123  ...          -0.006608   \n",
      "guests_included_9                      0.010995  ...          -0.002696   \n",
      "guests_included_10                     0.010995  ...          -0.002696   \n",
      "guests_included_12                     0.012267  ...          -0.002696   \n",
      "guests_included_14                    -0.004695  ...          -0.002696   \n",
      "\n",
      "                           guests_included_4  guests_included_5  \\\n",
      "price                               0.133179           0.078049   \n",
      "id                                 -0.050937          -0.007671   \n",
      "host_listings_count                -0.061066          -0.028063   \n",
      "host_total_listings_count          -0.061066          -0.028063   \n",
      "latitude                            0.017341          -0.024353   \n",
      "...                                      ...                ...   \n",
      "guests_included_8                  -0.009107          -0.003633   \n",
      "guests_included_9                  -0.003715          -0.001482   \n",
      "guests_included_10                 -0.003715          -0.001482   \n",
      "guests_included_12                 -0.003715          -0.001482   \n",
      "guests_included_14                 -0.003715          -0.001482   \n",
      "\n",
      "                           guests_included_6  guests_included_7  \\\n",
      "price                               0.110312           0.059250   \n",
      "id                                 -0.036148          -0.003392   \n",
      "host_listings_count                -0.023493          -0.005555   \n",
      "host_total_listings_count          -0.023493          -0.005555   \n",
      "latitude                           -0.041963           0.011640   \n",
      "...                                      ...                ...   \n",
      "guests_included_8                  -0.004181          -0.000684   \n",
      "guests_included_9                  -0.001706          -0.000279   \n",
      "guests_included_10                 -0.001706          -0.000279   \n",
      "guests_included_12                 -0.001706          -0.000279   \n",
      "guests_included_14                 -0.001706          -0.000279   \n",
      "\n",
      "                           guests_included_8  guests_included_9  \\\n",
      "price                               0.049115           0.034472   \n",
      "id                                 -0.011915          -0.007657   \n",
      "host_listings_count                -0.012859          -0.005458   \n",
      "host_total_listings_count          -0.012859          -0.005458   \n",
      "latitude                           -0.007982          -0.017563   \n",
      "...                                      ...                ...   \n",
      "guests_included_8                   1.000000          -0.000684   \n",
      "guests_included_9                  -0.000684           1.000000   \n",
      "guests_included_10                 -0.000684          -0.000279   \n",
      "guests_included_12                 -0.000684          -0.000279   \n",
      "guests_included_14                 -0.000684          -0.000279   \n",
      "\n",
      "                           guests_included_10  guests_included_12  \\\n",
      "price                                0.031093            0.040779   \n",
      "id                                  -0.014025            0.023652   \n",
      "host_listings_count                 -0.005653           -0.005165   \n",
      "host_total_listings_count           -0.005653           -0.005165   \n",
      "latitude                             0.005259           -0.009930   \n",
      "...                                       ...                 ...   \n",
      "guests_included_8                   -0.000684           -0.000684   \n",
      "guests_included_9                   -0.000279           -0.000279   \n",
      "guests_included_10                   1.000000           -0.000279   \n",
      "guests_included_12                  -0.000279            1.000000   \n",
      "guests_included_14                  -0.000279           -0.000279   \n",
      "\n",
      "                           guests_included_14  \n",
      "price                                0.015326  \n",
      "id                                  -0.024576  \n",
      "host_listings_count                 -0.005555  \n",
      "host_total_listings_count           -0.005555  \n",
      "latitude                             0.006464  \n",
      "...                                       ...  \n",
      "guests_included_8                   -0.000684  \n",
      "guests_included_9                   -0.000279  \n",
      "guests_included_10                  -0.000279  \n",
      "guests_included_12                  -0.000279  \n",
      "guests_included_14                   1.000000  \n",
      "\n",
      "[140 rows x 140 columns]\n"
     ]
    }
   ],
   "source": [
    "corr_matrix.to_excel('corr.xlsx',index=False, header = True)\n",
    "print(corr_matrix)"
   ]
  },
  {
   "cell_type": "code",
   "execution_count": null,
   "id": "8431601c",
   "metadata": {},
   "outputs": [],
   "source": [
    "plt.title('Correlation Matrix')\n",
    "plt.figure(figsize=(15, 15))\n",
    "sns.heatmap(corr_matrix, annot=True, cmap='coolwarm')\n",
    "\n",
    "plt.show()"
   ]
  },
  {
   "cell_type": "code",
   "execution_count": 23,
   "id": "e82917fa",
   "metadata": {},
   "outputs": [
    {
     "data": {
      "text/html": [
       "<style>#sk-container-id-1 {color: black;background-color: white;}#sk-container-id-1 pre{padding: 0;}#sk-container-id-1 div.sk-toggleable {background-color: white;}#sk-container-id-1 label.sk-toggleable__label {cursor: pointer;display: block;width: 100%;margin-bottom: 0;padding: 0.3em;box-sizing: border-box;text-align: center;}#sk-container-id-1 label.sk-toggleable__label-arrow:before {content: \"▸\";float: left;margin-right: 0.25em;color: #696969;}#sk-container-id-1 label.sk-toggleable__label-arrow:hover:before {color: black;}#sk-container-id-1 div.sk-estimator:hover label.sk-toggleable__label-arrow:before {color: black;}#sk-container-id-1 div.sk-toggleable__content {max-height: 0;max-width: 0;overflow: hidden;text-align: left;background-color: #f0f8ff;}#sk-container-id-1 div.sk-toggleable__content pre {margin: 0.2em;color: black;border-radius: 0.25em;background-color: #f0f8ff;}#sk-container-id-1 input.sk-toggleable__control:checked~div.sk-toggleable__content {max-height: 200px;max-width: 100%;overflow: auto;}#sk-container-id-1 input.sk-toggleable__control:checked~label.sk-toggleable__label-arrow:before {content: \"▾\";}#sk-container-id-1 div.sk-estimator input.sk-toggleable__control:checked~label.sk-toggleable__label {background-color: #d4ebff;}#sk-container-id-1 div.sk-label input.sk-toggleable__control:checked~label.sk-toggleable__label {background-color: #d4ebff;}#sk-container-id-1 input.sk-hidden--visually {border: 0;clip: rect(1px 1px 1px 1px);clip: rect(1px, 1px, 1px, 1px);height: 1px;margin: -1px;overflow: hidden;padding: 0;position: absolute;width: 1px;}#sk-container-id-1 div.sk-estimator {font-family: monospace;background-color: #f0f8ff;border: 1px dotted black;border-radius: 0.25em;box-sizing: border-box;margin-bottom: 0.5em;}#sk-container-id-1 div.sk-estimator:hover {background-color: #d4ebff;}#sk-container-id-1 div.sk-parallel-item::after {content: \"\";width: 100%;border-bottom: 1px solid gray;flex-grow: 1;}#sk-container-id-1 div.sk-label:hover label.sk-toggleable__label {background-color: #d4ebff;}#sk-container-id-1 div.sk-serial::before {content: \"\";position: absolute;border-left: 1px solid gray;box-sizing: border-box;top: 0;bottom: 0;left: 50%;z-index: 0;}#sk-container-id-1 div.sk-serial {display: flex;flex-direction: column;align-items: center;background-color: white;padding-right: 0.2em;padding-left: 0.2em;position: relative;}#sk-container-id-1 div.sk-item {position: relative;z-index: 1;}#sk-container-id-1 div.sk-parallel {display: flex;align-items: stretch;justify-content: center;background-color: white;position: relative;}#sk-container-id-1 div.sk-item::before, #sk-container-id-1 div.sk-parallel-item::before {content: \"\";position: absolute;border-left: 1px solid gray;box-sizing: border-box;top: 0;bottom: 0;left: 50%;z-index: -1;}#sk-container-id-1 div.sk-parallel-item {display: flex;flex-direction: column;z-index: 1;position: relative;background-color: white;}#sk-container-id-1 div.sk-parallel-item:first-child::after {align-self: flex-end;width: 50%;}#sk-container-id-1 div.sk-parallel-item:last-child::after {align-self: flex-start;width: 50%;}#sk-container-id-1 div.sk-parallel-item:only-child::after {width: 0;}#sk-container-id-1 div.sk-dashed-wrapped {border: 1px dashed gray;margin: 0 0.4em 0.5em 0.4em;box-sizing: border-box;padding-bottom: 0.4em;background-color: white;}#sk-container-id-1 div.sk-label label {font-family: monospace;font-weight: bold;display: inline-block;line-height: 1.2em;}#sk-container-id-1 div.sk-label-container {text-align: center;}#sk-container-id-1 div.sk-container {/* jupyter's `normalize.less` sets `[hidden] { display: none; }` but bootstrap.min.css set `[hidden] { display: none !important; }` so we also need the `!important` here to be able to override the default hidden behavior on the sphinx rendered scikit-learn.org. See: https://github.com/scikit-learn/scikit-learn/issues/21755 */display: inline-block !important;position: relative;}#sk-container-id-1 div.sk-text-repr-fallback {display: none;}</style><div id=\"sk-container-id-1\" class=\"sk-top-container\"><div class=\"sk-text-repr-fallback\"><pre>LinearRegression()</pre><b>In a Jupyter environment, please rerun this cell to show the HTML representation or trust the notebook. <br />On GitHub, the HTML representation is unable to render, please try loading this page with nbviewer.org.</b></div><div class=\"sk-container\" hidden><div class=\"sk-item\"><div class=\"sk-estimator sk-toggleable\"><input class=\"sk-toggleable__control sk-hidden--visually\" id=\"sk-estimator-id-1\" type=\"checkbox\" checked><label for=\"sk-estimator-id-1\" class=\"sk-toggleable__label sk-toggleable__label-arrow\">LinearRegression</label><div class=\"sk-toggleable__content\"><pre>LinearRegression()</pre></div></div></div></div></div>"
      ],
      "text/plain": [
       "LinearRegression()"
      ]
     },
     "execution_count": 23,
     "metadata": {},
     "output_type": "execute_result"
    }
   ],
   "source": [
    "X = df_dummies[[\"accommodates\",\"reviews_per_month\",\"bathrooms_1.0\",\"bathrooms_2.0\",\"bathrooms_4.5\",\"bedrooms_1.0\",\"bedrooms_2.0\",\"bedrooms_3.0\",\"bedrooms_4.0\",\"beds_1.0\",\"beds_2.0\",\"beds_3.0\",\"beds_4.0\",\"beds_5.0\",\"beds_6.0\",\"beds_7.0\",\"property_type_House\",\"neighbourhood_cleansed_Allston\",\"neighbourhood_cleansed_Back Bay\",\"neighbourhood_cleansed_Dorchester\",\"neighbourhood_cleansed_South Boston Waterfront\",\"guests_included_1\",\"guests_included_4\",]]\n",
    "\n",
    "y = df_dummies['price']\n",
    "\n",
    "#Split into train and test\n",
    "X_train, X_test, y_train, y_test = train_test_split(X, y, test_size = .30, random_state=42) \n",
    "\n",
    "lm_model = LinearRegression() # Instantiate\n",
    "lm_model.fit(X_train, y_train) #Fit\n",
    "        "
   ]
  },
  {
   "cell_type": "code",
   "execution_count": 24,
   "id": "293199f4",
   "metadata": {},
   "outputs": [],
   "source": [
    "y_test_preds = lm_model.predict(X_test)"
   ]
  },
  {
   "cell_type": "code",
   "execution_count": 27,
   "id": "958a2fab",
   "metadata": {},
   "outputs": [],
   "source": [
    "rsquared_score = r2_score(y_test, y_test_preds)\n",
    "length_y_test = len(y_test)"
   ]
  },
  {
   "cell_type": "code",
   "execution_count": 28,
   "id": "ffe2b365",
   "metadata": {},
   "outputs": [
    {
     "name": "stdout",
     "output_type": "stream",
     "text": [
      "0.2127803864401564\n"
     ]
    }
   ],
   "source": [
    "print(rsquared_score)"
   ]
  },
  {
   "cell_type": "code",
   "execution_count": 30,
   "id": "95d1c12a",
   "metadata": {},
   "outputs": [
    {
     "name": "stdout",
     "output_type": "stream",
     "text": [
      "The r-squared score for your model was 0.2127803864401564 on 1076 values.\n"
     ]
    }
   ],
   "source": [
    "print(\"The r-squared score for your model was {} on {} values.\".format(rsquared_score, length_y_test))"
   ]
  },
  {
   "cell_type": "markdown",
   "id": "9557e75e",
   "metadata": {},
   "source": [
    "A value of rsquared greater than 0.2 can be considered a good fit hence going forward with the model"
   ]
  },
  {
   "cell_type": "code",
   "execution_count": 31,
   "id": "dbd0f01f",
   "metadata": {},
   "outputs": [
    {
     "ename": "ValueError",
     "evalue": "y_true and y_pred have different number of output (1!=23)",
     "output_type": "error",
     "traceback": [
      "\u001b[1;31m---------------------------------------------------------------------------\u001b[0m",
      "\u001b[1;31mValueError\u001b[0m                                Traceback (most recent call last)",
      "Cell \u001b[1;32mIn[31], line 1\u001b[0m\n\u001b[1;32m----> 1\u001b[0m rsquared_score1 \u001b[38;5;241m=\u001b[39m \u001b[43mr2_score\u001b[49m\u001b[43m(\u001b[49m\u001b[43my_train\u001b[49m\u001b[43m,\u001b[49m\u001b[43m \u001b[49m\u001b[43mX_train\u001b[49m\u001b[43m)\u001b[49m\n\u001b[0;32m      2\u001b[0m length_y_test1 \u001b[38;5;241m=\u001b[39m \u001b[38;5;28mlen\u001b[39m(y_train)\n\u001b[0;32m      3\u001b[0m \u001b[38;5;28mprint\u001b[39m(\u001b[38;5;124m\"\u001b[39m\u001b[38;5;124mThe r-squared score for your model was \u001b[39m\u001b[38;5;132;01m{}\u001b[39;00m\u001b[38;5;124m on \u001b[39m\u001b[38;5;132;01m{}\u001b[39;00m\u001b[38;5;124m values.\u001b[39m\u001b[38;5;124m\"\u001b[39m\u001b[38;5;241m.\u001b[39mformat(rsquared_score1, length_y_test1))\n",
      "File \u001b[1;32m~\\anaconda3\\lib\\site-packages\\sklearn\\metrics\\_regression.py:911\u001b[0m, in \u001b[0;36mr2_score\u001b[1;34m(y_true, y_pred, sample_weight, multioutput, force_finite)\u001b[0m\n\u001b[0;32m    784\u001b[0m \u001b[38;5;28;01mdef\u001b[39;00m \u001b[38;5;21mr2_score\u001b[39m(\n\u001b[0;32m    785\u001b[0m     y_true,\n\u001b[0;32m    786\u001b[0m     y_pred,\n\u001b[1;32m   (...)\u001b[0m\n\u001b[0;32m    790\u001b[0m     force_finite\u001b[38;5;241m=\u001b[39m\u001b[38;5;28;01mTrue\u001b[39;00m,\n\u001b[0;32m    791\u001b[0m ):\n\u001b[0;32m    792\u001b[0m     \u001b[38;5;124;03m\"\"\":math:`R^2` (coefficient of determination) regression score function.\u001b[39;00m\n\u001b[0;32m    793\u001b[0m \n\u001b[0;32m    794\u001b[0m \u001b[38;5;124;03m    Best possible score is 1.0 and it can be negative (because the\u001b[39;00m\n\u001b[1;32m   (...)\u001b[0m\n\u001b[0;32m    909\u001b[0m \u001b[38;5;124;03m    -inf\u001b[39;00m\n\u001b[0;32m    910\u001b[0m \u001b[38;5;124;03m    \"\"\"\u001b[39;00m\n\u001b[1;32m--> 911\u001b[0m     y_type, y_true, y_pred, multioutput \u001b[38;5;241m=\u001b[39m \u001b[43m_check_reg_targets\u001b[49m\u001b[43m(\u001b[49m\n\u001b[0;32m    912\u001b[0m \u001b[43m        \u001b[49m\u001b[43my_true\u001b[49m\u001b[43m,\u001b[49m\u001b[43m \u001b[49m\u001b[43my_pred\u001b[49m\u001b[43m,\u001b[49m\u001b[43m \u001b[49m\u001b[43mmultioutput\u001b[49m\n\u001b[0;32m    913\u001b[0m \u001b[43m    \u001b[49m\u001b[43m)\u001b[49m\n\u001b[0;32m    914\u001b[0m     check_consistent_length(y_true, y_pred, sample_weight)\n\u001b[0;32m    916\u001b[0m     \u001b[38;5;28;01mif\u001b[39;00m _num_samples(y_pred) \u001b[38;5;241m<\u001b[39m \u001b[38;5;241m2\u001b[39m:\n",
      "File \u001b[1;32m~\\anaconda3\\lib\\site-packages\\sklearn\\metrics\\_regression.py:111\u001b[0m, in \u001b[0;36m_check_reg_targets\u001b[1;34m(y_true, y_pred, multioutput, dtype)\u001b[0m\n\u001b[0;32m    108\u001b[0m     y_pred \u001b[38;5;241m=\u001b[39m y_pred\u001b[38;5;241m.\u001b[39mreshape((\u001b[38;5;241m-\u001b[39m\u001b[38;5;241m1\u001b[39m, \u001b[38;5;241m1\u001b[39m))\n\u001b[0;32m    110\u001b[0m \u001b[38;5;28;01mif\u001b[39;00m y_true\u001b[38;5;241m.\u001b[39mshape[\u001b[38;5;241m1\u001b[39m] \u001b[38;5;241m!=\u001b[39m y_pred\u001b[38;5;241m.\u001b[39mshape[\u001b[38;5;241m1\u001b[39m]:\n\u001b[1;32m--> 111\u001b[0m     \u001b[38;5;28;01mraise\u001b[39;00m \u001b[38;5;167;01mValueError\u001b[39;00m(\n\u001b[0;32m    112\u001b[0m         \u001b[38;5;124m\"\u001b[39m\u001b[38;5;124my_true and y_pred have different number of output (\u001b[39m\u001b[38;5;132;01m{0}\u001b[39;00m\u001b[38;5;124m!=\u001b[39m\u001b[38;5;132;01m{1}\u001b[39;00m\u001b[38;5;124m)\u001b[39m\u001b[38;5;124m\"\u001b[39m\u001b[38;5;241m.\u001b[39mformat(\n\u001b[0;32m    113\u001b[0m             y_true\u001b[38;5;241m.\u001b[39mshape[\u001b[38;5;241m1\u001b[39m], y_pred\u001b[38;5;241m.\u001b[39mshape[\u001b[38;5;241m1\u001b[39m]\n\u001b[0;32m    114\u001b[0m         )\n\u001b[0;32m    115\u001b[0m     )\n\u001b[0;32m    117\u001b[0m n_outputs \u001b[38;5;241m=\u001b[39m y_true\u001b[38;5;241m.\u001b[39mshape[\u001b[38;5;241m1\u001b[39m]\n\u001b[0;32m    118\u001b[0m allowed_multioutput_str \u001b[38;5;241m=\u001b[39m (\u001b[38;5;124m\"\u001b[39m\u001b[38;5;124mraw_values\u001b[39m\u001b[38;5;124m\"\u001b[39m, \u001b[38;5;124m\"\u001b[39m\u001b[38;5;124muniform_average\u001b[39m\u001b[38;5;124m\"\u001b[39m, \u001b[38;5;124m\"\u001b[39m\u001b[38;5;124mvariance_weighted\u001b[39m\u001b[38;5;124m\"\u001b[39m)\n",
      "\u001b[1;31mValueError\u001b[0m: y_true and y_pred have different number of output (1!=23)"
     ]
    }
   ],
   "source": []
  },
  {
   "cell_type": "code",
   "execution_count": null,
   "id": "2cdef305",
   "metadata": {},
   "outputs": [],
   "source": []
  }
 ],
 "metadata": {
  "kernelspec": {
   "display_name": "Python 3 (ipykernel)",
   "language": "python",
   "name": "python3"
  },
  "language_info": {
   "codemirror_mode": {
    "name": "ipython",
    "version": 3
   },
   "file_extension": ".py",
   "mimetype": "text/x-python",
   "name": "python",
   "nbconvert_exporter": "python",
   "pygments_lexer": "ipython3",
   "version": "3.10.9"
  }
 },
 "nbformat": 4,
 "nbformat_minor": 5
}
